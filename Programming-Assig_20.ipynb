{
 "cells": [
  {
   "cell_type": "markdown",
   "id": "0016d74a",
   "metadata": {},
   "source": [
    "### 1.Create a function that takes a list of strings and integers, and filters out the list so that it returns a list of integers only.\n",
    "Examples:\n",
    "filter_list([1, 2, 3, \"a\", \"b\", 4]) ➞ [1, 2, 3, 4]\n",
    "filter_list([\"A\", 0, \"Edabit\", 1729, \"Python\", \"1729\"]) ➞ [0, 1729]\n",
    "filter_list([\"Nothing\", \"here\"]) ➞ []"
   ]
  },
  {
   "cell_type": "code",
   "execution_count": 1,
   "id": "e01e0522",
   "metadata": {},
   "outputs": [
    {
     "name": "stdout",
     "output_type": "stream",
     "text": [
      "Filter list is --> [1, 2, 3, 4]\n",
      "Filter list is --> [0, 1729]\n",
      "Filter list is --> []\n"
     ]
    }
   ],
   "source": [
    "#Solution:-\n",
    "\n",
    "def filter_list(inp_list):\n",
    "    out_list = []\n",
    "    for i in inp_list:\n",
    "        if type(i) == int:\n",
    "            out_list.append(i)\n",
    "    print(\"Filter list is -->\",out_list)  \n",
    "\n",
    "filter_list([1, 2, 3, \"a\", \"b\", 4])\n",
    "filter_list([\"A\", 0, \"Edabit\", 1729, \"Python\", \"1729\"])\n",
    "filter_list([\"Nothing\", \"here\"])"
   ]
  },
  {
   "cell_type": "markdown",
   "id": "e25ce7f9",
   "metadata": {},
   "source": [
    "### 2.Given a list of numbers, create a function which returns the list but with each element's index in the list added to itself. This means you add 0 to the number at index 0, add 1 to the number at index 1, etc...\n",
    "\n",
    "Examples:\n",
    "add_indexes([0, 0, 0, 0, 0]) ➞ [0, 1, 2, 3, 4]\n",
    "add_indexes([1, 2, 3, 4, 5]) ➞ [1, 3, 5, 7, 9]\n",
    "add_indexes([5, 4, 3, 2, 1]) ➞ [5, 5, 5, 5, 5]"
   ]
  },
  {
   "cell_type": "code",
   "execution_count": 3,
   "id": "74db656e",
   "metadata": {},
   "outputs": [
    {
     "name": "stdout",
     "output_type": "stream",
     "text": [
      "add_indexes [0, 0, 0, 0, 0] --> [0, 1, 2, 3, 4]\n",
      "add_indexes [1, 2, 3, 4, 5] --> [1, 3, 5, 7, 9]\n",
      "add_indexes [5, 4, 3, 2, 1] --> [5, 5, 5, 5, 5]\n"
     ]
    }
   ],
   "source": [
    "#Solution:-\n",
    "\n",
    "def indexes(in_list):\n",
    "    out_list = []\n",
    "    for i in range(len(in_list)):\n",
    "        out_list.append(i+in_list[i])\n",
    "    print(f'add_indexes {in_list} --> {out_list}')\n",
    "        \n",
    "indexes([0, 0, 0, 0, 0])\n",
    "indexes([1, 2, 3, 4, 5])\n",
    "indexes([5, 4, 3, 2, 1])"
   ]
  },
  {
   "cell_type": "markdown",
   "id": "e8c54a1c",
   "metadata": {},
   "source": [
    "# 3.Create a function that takes the height and radius of a cone as arguments and returns the volume of the cone rounded to the nearest hundredth. See the resources tab for the formula.\n",
    "\n",
    "Examples:\n",
    "cone_volume(3, 2) ➞ 12.57  \n",
    "cone_volume(15, 6) ➞ 565.49 \n",
    "cone_volume(18, 0) ➞ 0"
   ]
  },
  {
   "cell_type": "code",
   "execution_count": 8,
   "id": "cc4d5f12",
   "metadata": {},
   "outputs": [
    {
     "name": "stdout",
     "output_type": "stream",
     "text": [
      "cone_volume (3, 2) --> 12.57\n",
      "cone_volume (15, 6) --> 565.49\n",
      "cone_volume (18, 0) --> 0.00\n"
     ]
    }
   ],
   "source": [
    "#Solution:-\n",
    "import math\n",
    "\n",
    "def cone(h,r):\n",
    "    output = ((math.pi)*pow(r,2))*(h/3)\n",
    "    print(f'cone_volume {h,r} --> {output:.2f}')\n",
    " \n",
    "cone(3,2) \n",
    "cone(15,6)    \n",
    "cone(18,0)           "
   ]
  },
  {
   "cell_type": "markdown",
   "id": "ef5b1f15",
   "metadata": {},
   "source": [
    "### 4.This Triangular Number Sequence is generated from a pattern of dots that form a triangle.\n",
    "The first 5 numbers of the sequence, or dots, are: 1, 3, 6, 10, 15\n",
    "This means that the first triangle has just one dot, the second one has three dots, the third one has 6 dots and so on. Write a function that gives the number of dots with its corresponding triangle number of the sequence.\n",
    "\n",
    "Examples:\n",
    "triangle(1) ➞ 1\n",
    "triangle(6) ➞ 21\n",
    "triangle(215) ➞ 23220"
   ]
  },
  {
   "cell_type": "code",
   "execution_count": 13,
   "id": "f77082a4",
   "metadata": {},
   "outputs": [
    {
     "name": "stdout",
     "output_type": "stream",
     "text": [
      "triangle dots --> 1\n",
      "triangle dots --> 21\n",
      "triangle dots --> 23220\n"
     ]
    }
   ],
   "source": [
    "#Solution:-\n",
    "\n",
    "def triangle(in_num):\n",
    "    print(f'triangle dots --> {int((in_num)*((in_num+1)/2))}')\n",
    "\n",
    "triangle(1)\n",
    "triangle(6)\n",
    "triangle(215)"
   ]
  },
  {
   "cell_type": "markdown",
   "id": "c8cf1655",
   "metadata": {},
   "source": [
    "### 5.Create a function that takes a list of numbers between 1 and 10 (excluding one number) and returns the missing number.\n",
    "Examples:\n",
    "missing_num([1, 2, 3, 4, 6, 7, 8, 9, 10]) ➞ 5\n",
    "missing_num([7, 2, 3, 6, 5, 9, 1, 4, 8]) ➞ 10\n",
    "missing_num([10, 5, 1, 2, 4, 6, 8, 3, 9]) ➞ 7"
   ]
  },
  {
   "cell_type": "code",
   "execution_count": 14,
   "id": "36497cfe",
   "metadata": {},
   "outputs": [
    {
     "name": "stdout",
     "output_type": "stream",
     "text": [
      "missing number is --> 5\n",
      "missing number is --> 10\n",
      "missing number is --> 7\n"
     ]
    }
   ],
   "source": [
    "#Solution:-\n",
    "\n",
    "def missing_num(inp_list):\n",
    "    for num in range(1,11):\n",
    "        if num not in inp_list:\n",
    "            print(\"missing number is -->\",num)\n",
    "            \n",
    "missing_num([1, 2, 3, 4, 6, 7, 8, 9, 10])\n",
    "missing_num([7, 2, 3, 6, 5, 9, 1, 4, 8])\n",
    "missing_num([10, 5, 1, 2, 4, 6, 8, 3, 9])          "
   ]
  }
 ],
 "metadata": {
  "kernelspec": {
   "display_name": "Python 3 (ipykernel)",
   "language": "python",
   "name": "python3"
  },
  "language_info": {
   "codemirror_mode": {
    "name": "ipython",
    "version": 3
   },
   "file_extension": ".py",
   "mimetype": "text/x-python",
   "name": "python",
   "nbconvert_exporter": "python",
   "pygments_lexer": "ipython3",
   "version": "3.10.9"
  }
 },
 "nbformat": 4,
 "nbformat_minor": 5
}
